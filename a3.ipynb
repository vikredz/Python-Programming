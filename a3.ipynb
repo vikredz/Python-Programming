{
 "cells": [
  {
   "cell_type": "markdown",
   "id": "b8cea3dd-6c98-4065-8848-3d462a86df02",
   "metadata": {},
   "source": [
    "<h1>Vikramaditya Reddy Varkala</h1>\n",
    "<h2>Z1973679</h2>"
   ]
  },
  {
   "cell_type": "code",
   "execution_count": 1,
   "id": "d2b7fec6-af05-4a30-b0df-3cf50393b550",
   "metadata": {},
   "outputs": [],
   "source": [
    "import os\n",
    "import json\n",
    "from urllib.request import urlretrieve\n",
    "    \n",
    "    \n",
    "url = \"https://faculty.cs.niu.edu/~dakoop/cs503-2023sp/a3/pokemon.json\"\n",
    "local_fname = \"pokemon.json\"\n",
    "if not os.path.exists(local_fname):\n",
    "    urlretrieve(url, local_fname)\n",
    "data = json.load(open(local_fname))"
   ]
  },
  {
   "cell_type": "code",
   "execution_count": 2,
   "id": "f368fa59-b998-4dc5-8c88-4a6c95531cb0",
   "metadata": {},
   "outputs": [
    {
     "data": {
      "text/plain": [
       "{'name': 'Bulbasaur',\n",
       " 'generation': 1,\n",
       " 'species': 'Seed Pokémon',\n",
       " 'primary_type': 'Grass',\n",
       " 'hp': 45.0,\n",
       " 'height_m': 0.7,\n",
       " 'weight_kg': 6.9,\n",
       " 'speed': 45.0,\n",
       " 'attack': 49.0,\n",
       " 'defense': 49.0}"
      ]
     },
     "execution_count": 2,
     "metadata": {},
     "output_type": "execute_result"
    }
   ],
   "source": [
    "data[0]"
   ]
  },
  {
   "cell_type": "code",
   "execution_count": 3,
   "id": "631f9680-a97a-4abc-a4b8-fc75f005231f",
   "metadata": {},
   "outputs": [
    {
     "data": {
      "text/plain": [
       "1028"
      ]
     },
     "execution_count": 3,
     "metadata": {},
     "output_type": "execute_result"
    }
   ],
   "source": [
    "len(data)"
   ]
  },
  {
   "cell_type": "markdown",
   "id": "128b23d8-45eb-4ce0-bce1-b11953e86565",
   "metadata": {},
   "source": [
    "<b1><u><b>Question 1: Maxmum Hit Points</b></u></b1>"
   ]
  },
  {
   "cell_type": "code",
   "execution_count": 4,
   "id": "213c66d8-beab-4932-8e77-1cb0a223c0fa",
   "metadata": {},
   "outputs": [
    {
     "name": "stdout",
     "output_type": "stream",
     "text": [
      "Pokemon with maximum HP :\n",
      "Blissey with hp of 255.0\n",
      "Eternatus Eternamax with hp of 255.0\n"
     ]
    }
   ],
   "source": [
    "#initialize two variables hitpoints which is set to 0 and list1 which is an empty list to store name of pokemon with max hp.\n",
    "\n",
    "hitpoints=0\n",
    "list1=[]\n",
    "\n",
    "for pokemon in data:\n",
    "#comparing current pokemon hp with hitpoints and updating hitpoints and list1 with pokemon name   \n",
    "    if pokemon['hp']>hitpoints:\n",
    "        hitpoints=pokemon['hp']\n",
    "        list1=[pokemon['name']]\n",
    "        \n",
    "#checks if any other pokemon exists with the same hp by comparing it with hitpoints and  name of the pokemon is added onto list1     \n",
    "    elif pokemon['hp']==hitpoints:\n",
    "        list1.append(pokemon['name'])\n",
    "        \n",
    "print(\"Pokemon with maximum HP :\")\n",
    "\n",
    "for name in list1:\n",
    "    print(name,\"with hp of\",hitpoints)\n",
    "   "
   ]
  },
  {
   "cell_type": "markdown",
   "id": "0cc9de70-19e8-496e-a0d0-d41bd7ca580a",
   "metadata": {},
   "source": [
    "<b1><u><b>Question 2:Generation Counts</b></u></b1>"
   ]
  },
  {
   "cell_type": "code",
   "execution_count": 5,
   "id": "4e3debb6-9cfb-47c5-836e-5871b2e74580",
   "metadata": {},
   "outputs": [
    {
     "name": "stdout",
     "output_type": "stream",
     "text": [
      "Generation:Count\n",
      "1 : 192\n",
      "2 : 107\n",
      "3 : 165\n",
      "4 : 121\n",
      "5 : 171\n",
      "6 : 85\n",
      "7 : 99\n",
      "8 : 88\n"
     ]
    }
   ],
   "source": [
    "# generation_counts is an empty dictionary to store generation counts\n",
    "generation_counts={}\n",
    "#iterarting through each element in the data set\n",
    "for pokemon in data:\n",
    "    g=pokemon['generation']\n",
    " \n",
    "    if g in generation_counts:\n",
    "#increment count\n",
    "        generation_counts[g]=(generation_counts[g]+1)\n",
    "        \n",
    "    else:\n",
    "        generation_counts[g]=1\n",
    "print(\"Generation:Count\")\n",
    "for g in generation_counts:\n",
    "    print(g,\":\",generation_counts[g])\n",
    "#key:value\n",
    "#reference: https://nbviewer.org/url/faculty.cs.niu.edu/~dakoop/cs503-2023sp/notebooks/lecture08.ipynb,celll 21,similar to count letters concept"
   ]
  },
  {
   "cell_type": "markdown",
   "id": "9a825a6c-76ff-4ebf-97c4-c6e1f68f4226",
   "metadata": {},
   "source": [
    "<b1><u><b>Question 3:Mean Weights by Primary Type </b></u></b1>"
   ]
  },
  {
   "cell_type": "code",
   "execution_count": 6,
   "id": "3a4f31e7-068a-427c-81a6-1fa30f20a9f4",
   "metadata": {},
   "outputs": [
    {
     "name": "stdout",
     "output_type": "stream",
     "text": [
      "Pokemon type: Mean Weight\n",
      "*************************\n",
      "Grass : 39.8396\n",
      "Fire : 65.02\n",
      "Water : 58.2254\n",
      "Bug : 33.9543\n",
      "Normal : 43.4913\n",
      "Dark : 57.5818\n",
      "Poison : 60.1763\n",
      "Electric : 36.0705\n",
      "Ground : 133.3854\n",
      "Ice : 93.1833\n",
      "Fairy : 40.4455\n",
      "Steel : 231.1139\n",
      "Fighting : 79.2921\n",
      "Psychic : 69.9395\n",
      "Rock : 114.4817\n",
      "Ghost : 64.361\n",
      "Dragon : 125.2875\n",
      "Flying : 41.225\n"
     ]
    }
   ],
   "source": [
    "# primary_weights is an empty dictionary that stores the mean weight of all pokemon with the same primary type\n",
    "primary_weights={}\n",
    "\n",
    "def mean(s,l):\n",
    "    return s/l\n",
    "# here s is sum of primary weights and l is number of weights\n",
    "\n",
    "for pokemon in data:\n",
    "    p=pokemon[\"primary_type\"]\n",
    "    w=pokemon[\"weight_kg\"]\n",
    "    \n",
    "# excluding pokemons with unknown weights from mean computations    \n",
    "    if w is not None:\n",
    "        if p in primary_weights:\n",
    "            primary_weights[p].append(w)\n",
    "        else:\n",
    "            primary_weights[p]=[w]\n",
    "\n",
    "for p in primary_weights:\n",
    "    s=sum(primary_weights[p])\n",
    "    l=len(primary_weights[p])\n",
    "    primary_weights[p]=round(mean(s,l),4)\n",
    "#rounding mean upto 4 decimal points for the values to look less messy\n",
    "\n",
    "print(\"Pokemon type: Mean Weight\")\n",
    "print(\"*\"*25)\n",
    "# unpacking the dictionary\n",
    "for p,mean in primary_weights.items():\n",
    "    print(p,\":\",mean)\n",
    "    \n",
    "#reference: https://nbviewer.org/url/faculty.cs.niu.edu/~dakoop/cs503-2023sp/notebooks/lecture08.ipynb cell 9\n",
    "# https://www.w3schools.com/python/ref_func_round.asp"
   ]
  },
  {
   "cell_type": "markdown",
   "id": "cdf3905b-9c1c-47bb-b904-bc60b1155d8f",
   "metadata": {},
   "source": [
    "<b1><u><b>Question 4: Filter by Hit Points  </b></u></b1>"
   ]
  },
  {
   "cell_type": "code",
   "execution_count": 12,
   "id": "c655c1c0-0b4f-43ef-a8c7-446b3496c056",
   "metadata": {},
   "outputs": [],
   "source": [
    "# function filter_hp that takes three parameters, data, min_hp=1 and max_hp=255\n",
    "# list2 is an empty list to store pokemon information\n",
    "def filter_hp(data,min_hp=1,max_hp=255):\n",
    "    list2=[]\n",
    "    \n",
    "    for pokemon in data:\n",
    "        hp=pokemon['hp']\n",
    "#to find pokemon with hp between 1 and 255\n",
    "        if (min_hp)<=(hp)and(hp)<=(max_hp):\n",
    "            name=pokemon['name']\n",
    "            list2.append((hp,name))\n",
    "#adding pokemon hp and name to the list               \n",
    "    s=sorted(list2)\n",
    "    return s\n",
    "\n",
    "# reference:https://www.w3schools.com/python/ref_func_sorted.asp"
   ]
  },
  {
   "cell_type": "code",
   "execution_count": 8,
   "id": "805cdd4a-b507-427a-b1eb-c8a8b368d123",
   "metadata": {},
   "outputs": [
    {
     "data": {
      "text/plain": [
       "[(20.0, 'Duskull'),\n",
       " (20.0, 'Feebas'),\n",
       " (20.0, 'Magikarp'),\n",
       " (20.0, 'Mime Jr.'),\n",
       " (20.0, 'Pichu'),\n",
       " (20.0, 'Shuckle'),\n",
       " (25.0, 'Abra'),\n",
       " (25.0, 'Blipbug'),\n",
       " (25.0, 'Magnemite'),\n",
       " (25.0, 'Wimpod')]"
      ]
     },
     "execution_count": 8,
     "metadata": {},
     "output_type": "execute_result"
    }
   ],
   "source": [
    "# filtering pokemon information with min_hp=20, max_hp=25\n",
    "filter_hp(data, 20, 25)"
   ]
  },
  {
   "cell_type": "markdown",
   "id": "9b0e68e3-6b5a-4874-a7dc-55f1942e6280",
   "metadata": {},
   "source": [
    "<b1><u><b>Question 5: Median Attack & Defense by Generation  </b></u></b1>"
   ]
  },
  {
   "cell_type": "code",
   "execution_count": 10,
   "id": "c057dd91-6a31-4991-891f-d968a6a0727d",
   "metadata": {},
   "outputs": [],
   "source": [
    "def median(x):\n",
    "    l=len(x)\n",
    "    s=sorted(x)\n",
    "# here x is a list\n",
    "# l iw length if list\n",
    "# s is sorted list\n",
    "# sorting the list before accessing the middle values by index\n",
    "    mid=(l//2)\n",
    "\n",
    "    if l%2==0:\n",
    "        return (s[mid-1]+s[mid])/2    #for even\n",
    "    else:\n",
    "        return s[mid]                 #for odd\n",
    "\n",
    "gen_atk_def=[]\n",
    "\n",
    "#using range 1-9 since there are 8 genrations\n",
    "\n",
    "for i in range(1,9):\n",
    "    gen=[]\n",
    "    for pokemon in data:\n",
    "        if pokemon['generation']==i:\n",
    "            gen.append(pokemon)\n",
    "            \n",
    "    attack=[]        \n",
    "    for pokemon in gen:\n",
    "        attack.append(pokemon['attack'])\n",
    "        \n",
    "        \n",
    "    defense=[]    \n",
    "    for pokemon in gen:\n",
    "        defense.append(pokemon['defense'])\n",
    "\n",
    "    gen_atk_def.append({\"generation\":i, \"attack\":median(attack), \"defense\":median(defense)})\n",
    "    \n",
    "#adding 1-8 generations with median attack and defence to gen_atk_def list\n"
   ]
  },
  {
   "cell_type": "code",
   "execution_count": 11,
   "id": "b5c2d4a2-748b-4737-8154-a65212d9ccf2",
   "metadata": {},
   "outputs": [
    {
     "name": "stdout",
     "output_type": "stream",
     "text": [
      "{'generation': 1, 'attack': 75.0, 'defense': 66.0}\n",
      "{'generation': 2, 'attack': 72.0, 'defense': 70.0}\n",
      "{'generation': 3, 'attack': 75.0, 'defense': 70.0}\n",
      "{'generation': 4, 'attack': 80.0, 'defense': 72.0}\n",
      "{'generation': 5, 'attack': 80.0, 'defense': 70.0}\n",
      "{'generation': 6, 'attack': 70.0, 'defense': 70.0}\n",
      "{'generation': 7, 'attack': 82.0, 'defense': 75.0}\n",
      "{'generation': 8, 'attack': 82.5, 'defense': 69.5}\n"
     ]
    }
   ],
   "source": [
    "for gen in gen_atk_def:\n",
    "    print(gen)"
   ]
  }
 ],
 "metadata": {
  "kernelspec": {
   "display_name": "Python 3.10",
   "language": "python",
   "name": "python3"
  },
  "language_info": {
   "codemirror_mode": {
    "name": "ipython",
    "version": 3
   },
   "file_extension": ".py",
   "mimetype": "text/x-python",
   "name": "python",
   "nbconvert_exporter": "python",
   "pygments_lexer": "ipython3",
   "version": "3.10.5"
  }
 },
 "nbformat": 4,
 "nbformat_minor": 5
}
