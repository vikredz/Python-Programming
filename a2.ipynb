{
 "cells": [
  {
   "cell_type": "markdown",
   "id": "534ea5ce-62a3-42e4-bf43-30a5d44539f0",
   "metadata": {},
   "source": [
    "<h1>Vikramaditya Reddy Varkala</h1>\n",
    "<h2>Z1973679</h2>"
   ]
  },
  {
   "cell_type": "markdown",
   "id": "bd1efcdb-2f4d-44dd-aad7-b1b2acf2f22e",
   "metadata": {},
   "source": [
    "<b1><u><b>Question 1: The 7n +/- 1 Function</b></u></b1>"
   ]
  },
  {
   "cell_type": "code",
   "execution_count": 6,
   "id": "79c809c1-cc10-494f-85e3-423b99aee167",
   "metadata": {},
   "outputs": [
    {
     "name": "stdout",
     "output_type": "stream",
     "text": [
      "1 \n",
      "2 1, \n",
      "3 20, 10, 5, 36, 18, 9, 64, 32, 16, 8, 4, 2, 1, \n",
      "4 2, 1, \n",
      "5 36, 18, 9, 64, 32, 16, 8, 4, 2, 1, \n",
      "6 3, 20, 10, 5, 36, 18, 9, 64, 32, 16, 8, 4, 2, 1, \n",
      "7 48, 24, 12, 6, 3, 20, 10, 5, 36, 18, 9, 64, 32, 16, 8, 4, 2, 1, \n",
      "8 4, 2, 1, \n",
      "9 64, 32, 16, 8, 4, 2, 1, \n",
      "10 5, 36, 18, 9, 64, 32, 16, 8, 4, 2, 1, \n",
      "11 76, 38, 19, 132, 66, 33, 232, 116, 58, 29, 204, 102, 51, 356, 178, 89, 624, 312, 156, 78, 39, 272, 136, 68, 34, 17, 120, 60, 30, 15, 104, 52, 26, 13, 92, 46, 23, 160, 80, 40, 20, 10, 5, 36, 18, 9, 64, 32, 16, 8, 4, 2, 1, \n",
      "12 6, 3, 20, 10, 5, 36, 18, 9, 64, 32, 16, 8, 4, 2, 1, \n",
      "13 92, 46, 23, 160, 80, 40, 20, 10, 5, 36, 18, 9, 64, 32, 16, 8, 4, 2, 1, \n",
      "14 7, 48, 24, 12, 6, 3, 20, 10, 5, 36, 18, 9, 64, 32, 16, 8, 4, 2, 1, \n",
      "15 104, 52, 26, 13, 92, 46, 23, 160, 80, 40, 20, 10, 5, 36, 18, 9, 64, 32, 16, 8, 4, 2, 1, \n",
      "16 8, 4, 2, 1, \n",
      "17 120, 60, 30, 15, 104, 52, 26, 13, 92, 46, 23, 160, 80, 40, 20, 10, 5, 36, 18, 9, 64, 32, 16, 8, 4, 2, 1, \n",
      "18 9, 64, 32, 16, 8, 4, 2, 1, \n",
      "19 132, 66, 33, 232, 116, 58, 29, 204, 102, 51, 356, 178, 89, 624, 312, 156, 78, 39, 272, 136, 68, 34, 17, 120, 60, 30, 15, 104, 52, 26, 13, 92, 46, 23, 160, 80, 40, 20, 10, 5, 36, 18, 9, 64, 32, 16, 8, 4, 2, 1, \n",
      "20 10, 5, 36, 18, 9, 64, 32, 16, 8, 4, 2, 1, \n"
     ]
    }
   ],
   "source": [
    "def orbit(n):               \n",
    "    \n",
    "    while n!=1:             #this loop continues until n becomes 1\n",
    "        \n",
    "        if n%2==0:          # n/2:if n=0(mod2)\n",
    "            n=n//2\n",
    "            \n",
    "        elif n%4==1:        # 7n+1:if n=1(mod4)       \n",
    "            n=(7*n)+1\n",
    "            \n",
    "        else:               # 7n-1:if n=-1(mod4)         \n",
    "            n=(7*n)-1\n",
    "            \n",
    "        print(n, end=\", \")\n",
    "        \n",
    "    print()                 #line break after each value of n until it reaches 1\n",
    "    \n",
    "\n",
    "for i in range(1, 21):      #prints only until previous element when using range, hence used 21 to print 1-20 \n",
    "    print(i, end=\" \" )\n",
    "    orbit(i)\n",
    "\n",
    "#References: \n",
    "# https://arxiv.org/pdf/1807.00908.pdf\n",
    "# https://faculty.cs.niu.edu/~dakoop/cs503-2022fa/lectures/lecture05.pdf"
   ]
  },
  {
   "cell_type": "markdown",
   "id": "4a0879ac-4a08-411e-a472-3acd99ed3031",
   "metadata": {},
   "source": [
    "<b1><u><b>Question 2: Steps</b></u></b1>"
   ]
  },
  {
   "cell_type": "code",
   "execution_count": 8,
   "id": "2c48ad82-1f65-4a14-8911-40e1a328610f",
   "metadata": {},
   "outputs": [
    {
     "name": "stdout",
     "output_type": "stream",
     "text": [
      "1 -> 0\n",
      "2 -> 1\n",
      "3 -> 13\n",
      "4 -> 2\n",
      "5 -> 10\n",
      "6 -> 14\n",
      "7 -> 18\n",
      "8 -> 3\n",
      "9 -> 7\n",
      "10 -> 11\n",
      "11 -> 53\n",
      "12 -> 15\n",
      "13 -> 19\n",
      "14 -> 19\n",
      "15 -> 23\n",
      "16 -> 4\n",
      "17 -> 27\n",
      "18 -> 8\n",
      "19 -> 50\n",
      "20 -> 12\n"
     ]
    }
   ],
   "source": [
    "def steps(n):\n",
    "    \n",
    "  counter=0                    #keeps track of no. of steps\n",
    "\n",
    "  while n!=1:                  #this loop continues until n becomes 1\n",
    "        \n",
    "        \n",
    "    if n%2==0: \n",
    "      n=n//2                   # n/2:if n=0 (mod2)\n",
    "\n",
    "    elif n%4==1:\n",
    "      n=(7*n)+1                # 7n+1:if n=1 (mod4)\n",
    "    \n",
    "    else:\n",
    "      n=(7*n)-1                # 7n-1 :if n=-1 (mod4) \n",
    "\n",
    "    counter=counter+1          #increment counter until it reaches 1\n",
    "    \n",
    "  return counter\n",
    "\n",
    "\n",
    "for i in range(1,21):         #Test your method by calling it on the inputs from 1 to 20(in question)\n",
    "  print(i, \"->\",steps(i))       \n",
    "\n",
    "\n",
    "# Reference: https://arxiv.org/pdf/1807.00908.pdf\n"
   ]
  },
  {
   "cell_type": "markdown",
   "id": "2fccd5c5-1495-47eb-84a8-3a4d4876669e",
   "metadata": {},
   "source": [
    "<b1><u><b>Question 3: Longest Progression</b></u></b1>"
   ]
  },
  {
   "cell_type": "code",
   "execution_count": 5,
   "id": "102ebb72-bd07-4083-9a66-403a42c167f5",
   "metadata": {},
   "outputs": [
    {
     "name": "stdout",
     "output_type": "stream",
     "text": [
      "Input= 10 ->Largest Number= 7 & Stopping Time = 18\n",
      "Input= 20 ->Largest Number= 11 & Stopping Time = 53\n",
      "Input= 30 ->Largest Number= 21 & Stopping Time = 73\n",
      "Input= 40 ->Largest Number= 35 & Stopping Time = 325\n",
      "Input= 50 ->Largest Number= 35 & Stopping Time = 325\n",
      "Input= 60 ->Largest Number= 35 & Stopping Time = 325\n",
      "Input= 70 ->Largest Number= 70 & Stopping Time = 326\n",
      "Input= 80 ->Largest Number= 70 & Stopping Time = 326\n",
      "Input= 90 ->Largest Number= 70 & Stopping Time = 326\n",
      "Input= 100 ->Largest Number= 70 & Stopping Time = 326\n"
     ]
    }
   ],
   "source": [
    "def longest_progression(k):\n",
    "    m=0                          #Keeps track of maximum stopping time\n",
    "    n=0                          #keeps track of largest number\n",
    "    \n",
    "    \n",
    "    for i in range(1,k+1):      #using k+1 here to check range until k\n",
    "         t=steps(i)              #storing the values if i from steps method in part 2 of the assignment to \"t\".\n",
    "            \n",
    "# while check(t := steps(i))\n",
    "# if t>m:\n",
    "#     m:=t                  \n",
    "#     n:=i  \n",
    "    \n",
    "        \n",
    "         if t>m:                  # Here t=stopping time of each input\n",
    "            m=t                  # m=maximum stopping time\n",
    "            n=i                  # n=largest number \n",
    "                  \n",
    "    return n,m\n",
    "\n",
    "for i in range(10,101,10):    #Checks for input values 10, 20, 30, 40, 50, 60, 70, 80, 90, 100.\n",
    "    \n",
    "    n,m=longest_progression(i)  #calling function longest_progression with input value i\n",
    "    print(\"Input=\", i,\"->\" \"Largest Number=\",n,\"& \" \"Stopping Time =\", m)\n",
    "    \n",
    "# References:https://nbviewer.org/url/faculty.cs.niu.edu/~dakoop/cs503-2023sp/notebooks/lecture04.ipynb\n"
   ]
  },
  {
   "cell_type": "code",
   "execution_count": null,
   "id": "08a60698-93d9-44ce-9bdb-3be7659f2a48",
   "metadata": {},
   "outputs": [],
   "source": []
  }
 ],
 "metadata": {
  "kernelspec": {
   "display_name": "Python 3.10",
   "language": "python",
   "name": "python3"
  },
  "language_info": {
   "codemirror_mode": {
    "name": "ipython",
    "version": 3
   },
   "file_extension": ".py",
   "mimetype": "text/x-python",
   "name": "python",
   "nbconvert_exporter": "python",
   "pygments_lexer": "ipython3",
   "version": "3.10.5"
  }
 },
 "nbformat": 4,
 "nbformat_minor": 5
}
