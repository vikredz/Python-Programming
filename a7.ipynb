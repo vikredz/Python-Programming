{
 "cells": [
  {
   "cell_type": "markdown",
   "id": "708be730-9c77-451c-aed5-63aca1f6034f",
   "metadata": {},
   "source": [
    "<h1>Vikramaditya Reddy Varkala</h1>\n",
    "<h2>Z1973679</h2>"
   ]
  },
  {
   "cell_type": "markdown",
   "id": "6a0115a1-31d2-48b3-8672-5751651b63cc",
   "metadata": {},
   "source": [
    "<b1><u><b>Question 1b: Download & Extract Files  </b></u></b1>"
   ]
  },
  {
   "cell_type": "code",
   "execution_count": 4,
   "id": "5a5c8a65-970c-4cc0-bcfb-ba4766d9e110",
   "metadata": {},
   "outputs": [],
   "source": [
    "import aiohttp\n",
    "import asyncio\n",
    "import os\n",
    "import shutil\n",
    "import zipfile\n",
    "import nest_asyncio\n",
    "\n",
    "nest_asyncio.apply()\n",
    "\n",
    "async def download(session,url,directory):\n",
    "    async with session.get(url) as response:\n",
    "        zip_file=await response.read()\n",
    "        with open(os.path.basename(url),'wb') as f:\n",
    "            f.write(zip_file)\n",
    "        with zipfile.ZipFile(os.path.basename(url),'r') as ref:\n",
    "            ref.extractall(directory)\n",
    "# https://docs.python.org/3/library/functions.html#open\n",
    "\n",
    "async def main():\n",
    "    directory='artist-data'\n",
    "    list1=[]\n",
    "    for i,j in [(75,79),(80,99),(100,119),(120,199),(200,249),(250,999)]:\n",
    "        list1.append(f\"https://faculty.cs.niu.edu/~dakoop/cs503-2023sp/a7/{i}_million_to_{j}_million.zip\")\n",
    "        \n",
    "#list1 stores contents of https://faculty.cs.niu.edu/~dakoop/cs503-2023sp/a7/ \n",
    "\n",
    "    async with aiohttp.ClientSession() as session:\n",
    "        tasks=[]\n",
    "        for url in list1:\n",
    "            if not os.path.exists(os.path.basename(url)):\n",
    "                tasks.append(asyncio.create_task(download(session,url,directory)))\n",
    "            elif not os.path.exists(directory):\n",
    "                with zipfile.ZipFile(os.path.basename(url),'r') as ref:\n",
    "                    ref.extractall(directory)\n",
    "\n",
    "        await asyncio.gather(*tasks)\n",
    "        \n",
    "#removes contents of artist data if already exists\n",
    "if os.path.exists('artist-data'):\n",
    "    shutil.rmtree('artist-data')\n",
    "asyncio.run(main())\n",
    "\n",
    "# References:https://docs.aiohttp.org/en/stable/\n",
    "# https://realpython.com/python-concurrency/#asyncio-version\n",
    "\n",
    "#using  nest_asyncio to fix  RuntimeError: This event loop is already running\n",
    "#https://stackoverflow.com/questions/59740704/correct-use-constraints-of-use-of-nest-asyncio\n",
    "#https://jupyter-tutorial.readthedocs.io/en/stable/performance/asyncio-example.html\n"
   ]
  },
  {
   "cell_type": "markdown",
   "id": "50254a5d-7bec-472b-89da-0abff114bf72",
   "metadata": {},
   "source": [
    "<b1><u><b>Question 2: Find Matching Files  </b></u></b1>"
   ]
  },
  {
   "cell_type": "code",
   "execution_count": 5,
   "id": "0497a1ab-6cc6-467d-a164-f7a27b102fbf",
   "metadata": {},
   "outputs": [
    {
     "name": "stdout",
     "output_type": "stream",
     "text": [
      "Number of .npy files found: 32\n",
      "1. artist-data/75_million_to_79_million/United States/kenny-g.npy\n",
      "2. artist-data/75_million_to_79_million/United States/alabama.npy\n",
      "3. artist-data/75_million_to_79_million/United States/luke-bryan.npy\n",
      "4. artist-data/75_million_to_79_million/United States/imagine-dragons.npy\n",
      "5. artist-data/75_million_to_79_million/United States/gloria-estefan.npy\n",
      "6. artist-data/75_million_to_79_million/Other/the-weeknd.npy\n",
      "7. artist-data/100_million_to_119_million/United States/george-strait.npy\n",
      "8. artist-data/100_million_to_119_million/United States/janet-jackson.npy\n",
      "9. artist-data/100_million_to_119_million/United Kingdom/george-michael.npy\n",
      "10. artist-data/100_million_to_119_million/Other/nicki-minaj.npy\n",
      "11. artist-data/80_million_to_99_million/United States/lionel-richie.npy\n",
      "12. artist-data/80_million_to_99_million/United States/post-malone.npy\n",
      "13. artist-data/80_million_to_99_million/United States/ariana-grande.npy\n",
      "14. artist-data/80_million_to_99_million/United States/flo-rida.npy\n",
      "15. artist-data/80_million_to_99_million/United States/r.e.m..npy\n",
      "16. artist-data/250_million_to_999_million/United States/madonna.npy\n",
      "17. artist-data/250_million_to_999_million/Other/rihanna.npy\n",
      "18. artist-data/200_million_to_249_million/United States/taylor-swift.npy\n",
      "19. artist-data/200_million_to_249_million/United States/whitney-houston.npy\n",
      "20. artist-data/200_million_to_249_million/Other/celine-dion.npy\n",
      "21. artist-data/120_million_to_199_million/United States/bruno-mars.npy\n",
      "22. artist-data/120_million_to_199_million/United States/katy-perry.npy\n",
      "23. artist-data/120_million_to_199_million/United States/metallica.npy\n",
      "24. artist-data/120_million_to_199_million/United States/lady-gaga.npy\n",
      "25. artist-data/120_million_to_199_million/United States/bon-jovi.npy\n",
      "26. artist-data/120_million_to_199_million/United States/chris-brown.npy\n",
      "27. artist-data/120_million_to_199_million/United Kingdom/adele.npy\n",
      "28. artist-data/120_million_to_199_million/United Kingdom/ed-sheeran.npy\n",
      "29. artist-data/120_million_to_199_million/United Kingdom/phil-collins.npy\n",
      "30. artist-data/120_million_to_199_million/Other/drake.npy\n",
      "31. artist-data/120_million_to_199_million/Other/u2.npy\n",
      "32. artist-data/120_million_to_199_million/Other/justin-bieber.npy\n"
     ]
    }
   ],
   "source": [
    "import os\n",
    "\n",
    "contents=[]\n",
    "for root,dirs,files in os.walk(\"artist-data\"):\n",
    "    for file in files:\n",
    "        if file.endswith(\".npy\"):\n",
    "            contents.append(os.path.join(root, file))\n",
    "\n",
    "print(\"Number of .npy files found:\",len(contents))\n",
    "for num,i in enumerate(contents):\n",
    "    print(str(num+1)+\". \"+i)\n",
    "    \n",
    "# dirs to printout subdirectories from root\n",
    "# References:https://www.tutorialspoint.com/python/os_walk.htm"
   ]
  },
  {
   "cell_type": "markdown",
   "id": "d9bc1292-870b-4dbd-93f7-7e37008b7549",
   "metadata": {},
   "source": [
    "<b1><u><b>Question 3: Use Threads to Process Files </b></u></b1>"
   ]
  },
  {
   "cell_type": "code",
   "execution_count": 6,
   "id": "c09f4ebe-f853-4fc2-88f8-2f3f0926ba98",
   "metadata": {},
   "outputs": [],
   "source": [
    "import numpy as np\n",
    "import pandas as pd\n",
    "from pathlib import Path\n",
    "import concurrent.futures\n",
    "\n",
    "directory=Path(\"artist-data\")\n",
    "contents=list(directory.rglob(\"*/*.npy\"))\n",
    "# https://docs.python.org/3/library/pathlib.html:.rglob\n",
    "\n",
    "def process(file):\n",
    "    data=np.load(file)\n",
    "    df=pd.DataFrame(data=data.T,columns=[\"DATE\",\"VIEWS\"])\n",
    "#Transposing data(data.T) as the data is structured in horizontal format.    \n",
    "#https://docs.python.org/3/library/pathlib.html .stem\n",
    "#Replace _ with <space>\n",
    "    artist_name=file.stem.replace(\"-\",\" \").title()\n",
    "#new column\n",
    "    df = df.assign(ARTIST=artist_name)\n",
    "    return df\n",
    "\n",
    "# Processing using ThreadPoolExecutor\n",
    "with concurrent.futures.ThreadPoolExecutor() as executor:\n",
    "    res=list(executor.map(process,contents))\n",
    "# https://docs.python.org/3/library/concurrent.futures.html#concurrent.futures.ThreadPoolExecutor\n",
    "    \n",
    "#Concatenate\n",
    "dataframe=pd.concat(res)\n",
    "\n",
    "dataframe[\"DATE\"]=pd.to_datetime(dataframe[\"DATE\"],format=\"%Y%m%d\")\n",
    "#since date is mentioned in yyyymmdd format in part 3 example george-strait.npy\n",
    "# https://pandas.pydata.org/docs/reference/api/pandas.to_datetime.html\n",
    "\n",
    "#dict1 has dataframes for 12 months.\n",
    "#key:value\n",
    "# https://pandas.pydata.org/docs/reference/api/pandas.Series.dt.month.html\n",
    "dict1={month:dataframe[dataframe[\"DATE\"].dt.month==month] for month in range(1,13)}\n",
    "\n",
    "# using location(.)iloc of first date in column to write the file name\n",
    "# https://pandas.pydata.org/docs/reference/api/pandas.DataFrame.iloc.html\n",
    "for month,dframe in dict1.items():\n",
    "    filename=f\"{dframe['DATE'].iloc[0]:%Y%m01}.csv.gz\"\n",
    "    dframe.to_csv(filename,index=False)\n"
   ]
  },
  {
   "cell_type": "code",
   "execution_count": 7,
   "id": "1e211295-8975-4d08-bf1a-16d93068b4ec",
   "metadata": {},
   "outputs": [
    {
     "name": "stdout",
     "output_type": "stream",
     "text": [
      "          DATE    VIEWS           ARTIST\n",
      "0   2022-10-01    39196          Kenny G\n",
      "1   2022-10-01    23612          Alabama\n",
      "2   2022-10-01    67167       Luke Bryan\n",
      "3   2022-10-01   127217  Imagine Dragons\n",
      "4   2022-10-01    93113   Gloria Estefan\n",
      "5   2022-10-01   286975       The Weeknd\n",
      "6   2022-10-01   116814    George Strait\n",
      "7   2022-10-01   193239    Janet Jackson\n",
      "8   2022-10-01   292658   George Michael\n",
      "9   2022-10-01   379675      Nicki Minaj\n",
      "10  2022-10-01   110192    Lionel Richie\n",
      "11  2022-10-01   275275      Post Malone\n",
      "12  2022-10-01   423614    Ariana Grande\n",
      "13  2022-10-01    34171         Flo Rida\n",
      "14  2022-10-01   237936           R.E.M.\n",
      "15  2022-10-01   590429          Madonna\n",
      "16  2022-10-01   484971          Rihanna\n",
      "17  2022-10-01  1431262     Taylor Swift\n",
      "18  2022-10-01   326423  Whitney Houston\n",
      "19  2022-10-01   354651      Celine Dion\n",
      "20  2022-10-01   246919       Bruno Mars\n",
      "21  2022-10-01   334706       Katy Perry\n",
      "22  2022-10-01   231359        Metallica\n",
      "23  2022-10-01   398178        Lady Gaga\n",
      "24  2022-10-01   102109         Bon Jovi\n",
      "25  2022-10-01   189401      Chris Brown\n",
      "26  2022-10-01   232079            Adele\n",
      "27  2022-10-01   330522       Ed Sheeran\n",
      "28  2022-10-01   235637     Phil Collins\n",
      "29  2022-10-01   340064            Drake\n",
      "30  2022-10-01   239010               U2\n",
      "31  2022-10-01   398620    Justin Bieber\n"
     ]
    }
   ],
   "source": [
    "#TestCase1\n",
    "df = pd.read_csv(\"20221001.csv.gz\")\n",
    "print(df)"
   ]
  },
  {
   "cell_type": "code",
   "execution_count": 8,
   "id": "685c3080-1fd2-4afc-ab7b-26fd1da1d923",
   "metadata": {},
   "outputs": [
    {
     "name": "stdout",
     "output_type": "stream",
     "text": [
      "          DATE   VIEWS           ARTIST\n",
      "0   2022-01-01   48071          Kenny G\n",
      "1   2022-01-01   22984          Alabama\n",
      "2   2022-01-01   55667       Luke Bryan\n",
      "3   2022-01-01  107087  Imagine Dragons\n",
      "4   2022-01-01   57364   Gloria Estefan\n",
      "5   2022-01-01  730578       The Weeknd\n",
      "6   2022-01-01   83411    George Strait\n",
      "7   2022-01-01  681922    Janet Jackson\n",
      "8   2022-01-01  323710   George Michael\n",
      "9   2022-01-01  265998      Nicki Minaj\n",
      "10  2022-01-01   91305    Lionel Richie\n",
      "11  2022-01-01  158082      Post Malone\n",
      "12  2022-01-01  631745    Ariana Grande\n",
      "13  2022-01-01   34297         Flo Rida\n",
      "14  2022-01-01  218595           R.E.M.\n",
      "15  2022-01-01  385166          Madonna\n",
      "16  2022-01-01  614090          Rihanna\n",
      "17  2022-01-01  567430     Taylor Swift\n",
      "18  2022-01-01  358395  Whitney Houston\n",
      "19  2022-01-01  253011      Celine Dion\n",
      "20  2022-01-01  212096       Bruno Mars\n",
      "21  2022-01-01  467378       Katy Perry\n",
      "22  2022-01-01  194394        Metallica\n",
      "23  2022-01-01  460402        Lady Gaga\n",
      "24  2022-01-01  114134         Bon Jovi\n",
      "25  2022-01-01  203895      Chris Brown\n",
      "26  2022-01-01  460701            Adele\n",
      "27  2022-01-01  336906       Ed Sheeran\n",
      "28  2022-01-01  412622     Phil Collins\n",
      "29  2022-01-01  351723            Drake\n",
      "30  2022-01-01  253525               U2\n",
      "31  2022-01-01  404036    Justin Bieber\n"
     ]
    }
   ],
   "source": [
    "#TestCase2\n",
    "df = pd.read_csv(\"20220101.csv.gz\")\n",
    "print(df)"
   ]
  }
 ],
 "metadata": {
  "kernelspec": {
   "display_name": "Python 3.10",
   "language": "python",
   "name": "python3"
  },
  "language_info": {
   "codemirror_mode": {
    "name": "ipython",
    "version": 3
   },
   "file_extension": ".py",
   "mimetype": "text/x-python",
   "name": "python",
   "nbconvert_exporter": "python",
   "pygments_lexer": "ipython3",
   "version": "3.10.5"
  }
 },
 "nbformat": 4,
 "nbformat_minor": 5
}
