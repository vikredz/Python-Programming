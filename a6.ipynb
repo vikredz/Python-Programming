{
 "cells": [
  {
   "cell_type": "markdown",
   "id": "60d26448-2175-45de-a4fc-28fad8be61f9",
   "metadata": {},
   "source": [
    "<h1>Vikramaditya Reddy Varkala</h1>\n",
    "<h2>Z1973679</h2>"
   ]
  },
  {
   "cell_type": "markdown",
   "id": "67b41198-bcb9-4478-9eb2-0d7b9a0cd067",
   "metadata": {},
   "source": [
    "<b1><u><b>Question 1: Academic Classes </b></u></b1>"
   ]
  },
  {
   "cell_type": "code",
   "execution_count": 1,
   "id": "90d140e5-2487-4974-953c-70042e19e6f7",
   "metadata": {},
   "outputs": [],
   "source": [
    "class Academic:\n",
    "    \n",
    "# initialising default values\n",
    "    MAX_CREDITS = 0\n",
    "\n",
    "    def __init__(self, first_name, last_name, campus_id):\n",
    "        self.first_name=first_name\n",
    "        self.last_name=last_name\n",
    "        self.campus_id=campus_id\n",
    "        self.max_credits=self.__class__.MAX_CREDITS\n",
    "        self.schedule=Schedule()\n",
    "        \n",
    "# add_course method should first check if the course to be added will exceed the maximum number of credits for the person.\n",
    "    def add_course(self,course):\n",
    "        if self.schedule.credits+course.num_credits>self.max_credits:\n",
    "            raise Exception(\"Maximum credits exceeded.\")\n",
    "        self.schedule.add_course(course)\n",
    "\n",
    "    def remove_course(self, course):\n",
    "        self.schedule.remove_course(course)\n",
    "\n",
    "\n",
    "\n",
    "class Student(Academic):\n",
    "# default maximum of 16\n",
    "    MAX_CREDITS = 16\n",
    "\n",
    "    def __init__(self, first_name,last_name,campus_id, level):\n",
    "        super().__init__(first_name, last_name, campus_id)\n",
    "        self.level = level\n",
    "# Overriding the add_course method in the Student to enroll (add) the student to the Course\n",
    "    def add_course(self,course):\n",
    "        super().add_course(course)\n",
    "        course.enroll(self)\n",
    "#drops the course\n",
    "    def remove_course(self,course):\n",
    "        super().remove_course(course)\n",
    "        course.drop(self)\n",
    "\n",
    "        \n",
    "\n",
    "class GraduateStudent(Student):\n",
    "# default maximum of 12\n",
    "    MAX_CREDITS=12\n",
    "\n",
    "    def __init__(self,first_name,last_name,campus_id):\n",
    "        super().__init__(first_name,last_name,campus_id,\"Graduate\")\n",
    "\n",
    "\n",
    "class Instructor(Academic):\n",
    "# default maximum of 9\n",
    "    MAX_CREDITS = 9\n",
    "\n",
    "    def __init__(self,first_name,last_name,campus_id,level):\n",
    "        super().__init__(first_name,last_name,campus_id)\n",
    "        self.level=level\n",
    "\n",
    "    def add_course(self, course):\n",
    "        super().add_course(course)\n",
    "        course.instructor=self\n",
    "\n",
    "    def remove_course(self, course):\n",
    "        super().remove_course(course)\n",
    "        course.instructor=None\n"
   ]
  },
  {
   "cell_type": "markdown",
   "id": "1e01da99-d4d3-4a6a-965e-2ed3978f7ca4",
   "metadata": {},
   "source": [
    "<b1><u><b>Question 2: Course Class </b></u></b1>"
   ]
  },
  {
   "cell_type": "code",
   "execution_count": 2,
   "id": "1d828bb6-bee9-45cd-878c-e754edc1a4b0",
   "metadata": {},
   "outputs": [],
   "source": [
    "class Course:\n",
    "    def __init__(self, department,number,name,section,credits,times):\n",
    "        self.department=department\n",
    "        self.number=number\n",
    "        self.name=name\n",
    "        self.section=section\n",
    "        self.credits=credits\n",
    "        self.times=times\n",
    "        self.instructor=None\n",
    "        self.students=[]\n",
    "        \n",
    "#support for printing\n",
    "    def __str__(self):\n",
    "        return f\"{self.department}{self.course_number}{self.section}{self.times}\"\n",
    "\n",
    "    def enroll(self,student):\n",
    "        self.students.append(student)\n",
    "\n",
    "    def drop(self,student):\n",
    "        if student in self.students:\n",
    "            self.students.remove(student)\n",
    "\n",
    "    def change_time(self,times):\n",
    "        self.times=times\n",
    "        \n",
    "    @staticmethod\n",
    " #checks time comflict for a particular day and returns True if the two lists conflict and False otherwise. \n",
    "# d1,d2 are 2 days\n",
    "# s1,s1 are start times\n",
    "# e1,e2 ane end times\n",
    "\n",
    "    def check_time_conflicts(t1,t2):\n",
    "        for d1,s1,e1 in t1:\n",
    "            for d2,s2,e2 in t2:\n",
    "                if d1==d2:\n",
    "                    if s2<=s1<=end2 or s2<=e1<=e2:\n",
    "                        return True\n",
    "        return False"
   ]
  },
  {
   "cell_type": "markdown",
   "id": "06fc618e-d9ea-4e4e-b0cc-994d561b29ab",
   "metadata": {},
   "source": [
    "<b1><u><b>Question 3: Schedule Class </b></u></b1>"
   ]
  },
  {
   "cell_type": "code",
   "execution_count": 3,
   "id": "f22d86aa-d7d3-44d4-a5bd-16285c710a8c",
   "metadata": {},
   "outputs": [],
   "source": [
    "class Schedule(Course):\n",
    "    def __init__(self,courses=[]):\n",
    "        self.courses=courses\n",
    "        \n",
    "    @property\n",
    "    def credits(self):\n",
    "        return sum(course.credits for course in self.courses)\n",
    "    \n",
    "#updating  the add_course method to check whether the course conflicts with the person’s current schedule before adding the course\n",
    "# add_course\n",
    "    def add_course(self,course):\n",
    "        for c in self.courses:\n",
    "            if Course.check_time_conflicts(course.times,c.times):\n",
    "                \n",
    "                raise Exception(\"Overlapping with current schedule\")\n",
    "        self.courses.append(course)\n",
    "        \n",
    "#remove_course\n",
    "    def remove_course(self, course):\n",
    "        self.courses.remove(course)\n",
    "        \n",
    "# [support for +]\n",
    "# [support for -]      \n",
    "    def __add__(self, course):\n",
    "        self.add_course(course)\n",
    "        return self\n",
    "\n",
    "    def __sub__(self, course):\n",
    "        self.remove_course(course)\n",
    "        return self\n",
    " #support for printing   \n",
    "      def __str__(self):\n",
    "        return \"\\n\".join(str(course) for course in self.courses)\n",
    "\n",
    "# References:https://nbviewer.org/url/faculty.cs.niu.edu/~dakoop/cs503-2023sp/notebooks/lecture14.ipynb"
   ]
  },
  {
   "cell_type": "markdown",
   "id": "9872d9ae-c3b1-4840-b36b-b546e62b4b6d",
   "metadata": {},
   "source": [
    "<b1><u><b>Question 4: Registrar Class </b></u></b1>"
   ]
  },
  {
   "cell_type": "code",
   "execution_count": 5,
   "id": "8dfc6937-59ce-4a2f-a06d-d471d95e022d",
   "metadata": {},
   "outputs": [],
   "source": [
    "class Registrar:\n",
    "    def __init__(self):\n",
    "        \n",
    "#STORING IN Dictionaries\n",
    "        self.academics={}\n",
    "        self.courses={}\n",
    "\n",
    "    def add_persons(self,person):\n",
    "        for person in persons:\n",
    "            self.academics[person.campus_id]=person\n",
    "\n",
    "        \n",
    "    def add_courses(self, course):\n",
    "        for course in courses:\n",
    "            self.courses[(course.department,course.number,course.section)]=course\n",
    "\n",
    "\n",
    "    def add_person_to_course(self,campus_id,department,number,section):\n",
    "        person=self.academics.get(campus_id)\n",
    "        course=self.courses.get((department,number,section))\n",
    "        \n",
    "#Retrieveing person and course\n",
    "        if person and course:\n",
    "            course.enroll(person)\n",
    "        else:\n",
    "            raise ValueError(\"Invalid input\")\n",
    "\n",
    "    def remove_person_from_course(self,campus_id,department,number,section):\n",
    "        person=self.academics.get(campus_id)\n",
    "        course=self.courses.get((department,number,section))\n",
    "        \n",
    "#retreving person and course\n",
    "        if person and course:\n",
    "            course.drop(person)\n",
    "        else:\n",
    "            raise ValueError(\"Invalid input\")\n",
    "            \n",
    "            \n",
    "# change_course_time method that calls the change_time method implemented in the Course class\n",
    "#t1 is the newtime\n",
    "\n",
    "    def change_course_time(self,department,number,section,t1):\n",
    "        course=self.courses.get((department,number,section))\n",
    "        \n",
    "        if course:\n",
    "# checking if new time(t1)causes conflicts\n",
    "            for student in course.enrolled_students:\n",
    "                if Course.check_time_conflicts(t1,student.times):\n",
    "                    raise ValueError(\"New time t1 overlaps with student schedule\")\n",
    "\n",
    "            if course.instructor and Course.check_time_conflicts(t1, course.instructor.times):\n",
    "                raise ValueError(\"New time t1 overlaps with instructor schedule\")\n",
    "\n",
    "            # Update course time\n",
    "            course.change_time(t1)\n",
    "        else:\n",
    "            raise ValueError(\"Missing Course\")\n",
    "\n",
    "            "
   ]
  },
  {
   "cell_type": "markdown",
   "id": "a0056fd5-2940-44fb-96c6-360ee03f6e8b",
   "metadata": {},
   "source": [
    "<b1><u><b>Question 5: Changing Course Times </b></u></b1>"
   ]
  },
  {
   "cell_type": "code",
   "execution_count": 6,
   "id": "1ad9f628-a55c-4481-83ea-4d493e84919a",
   "metadata": {},
   "outputs": [],
   "source": [
    "# check_time_conflicts static method is added in Course Class (Question 2)\n",
    "# add_course method is updated in schedule class(Question 3)\n",
    "# change_course_time method is added in Registrar class"
   ]
  },
  {
   "cell_type": "markdown",
   "id": "ab55abf8-d1bd-4e0b-ac51-9b9e080414a7",
   "metadata": {},
   "source": [
    "<b1><u><b>EXTRA CREDIT</b></u></b1>"
   ]
  },
  {
   "cell_type": "code",
   "execution_count": null,
   "id": "9669b453-da3a-4778-86f9-e6c92c60e53b",
   "metadata": {},
   "outputs": [],
   "source": [
    "#support for printing  schedules and course enrollments\n",
    "\n",
    "# added _str_ method to schedule and course classes"
   ]
  },
  {
   "cell_type": "markdown",
   "id": "babc86f9-f901-4c59-b89c-4391f7a756df",
   "metadata": {},
   "source": [
    "<b1><u><b>#TEST CASES</b></u></b1>"
   ]
  },
  {
   "cell_type": "code",
   "execution_count": null,
   "id": "079dd710-f517-4a76-bd92-5fe94858d442",
   "metadata": {},
   "outputs": [],
   "source": [
    "s1 = Student(\"z143\", \"Catherine\", \"Smith\", \"Senior\")\n",
    "s2 = Student(\"z352\", \"Niraj\", \"Kumar\", \"Sophomore\")\n",
    "s3 = GraduateStudent(\"z785\", \"Divya\", \"Bharti\")\n",
    "s4 = GraduateStudent(\"z982\", \"James\", \"O'Brien\")\n",
    "\n",
    "i1 = Instructor(\"a421\", \"Jennifer\", \"Martinez\", \"Professor\")\n",
    "i2 = Instructor(\"a572\", \"Jonathan\", \"Jones\", \"Instructor\")\n",
    "\n",
    "c1 = Course(\"CSCI\", 1543, \"Programming Principles in Python\", 1, 3, [(\"Mon\", 10, 12), (\"Wed\", 10, 12)])\n",
    "c2 = Course(\"CSCI\", 1342, \"Computer Networks\", 2, 4, [(\"Tue\", 14, 16), (\"Thu\", 14, 16), (\"Fri\", 12, 13)])\n",
    "c3 = Course(\"CSCI\", 1352, \"Computer Graphics\", 1, 3, [(\"Tue\", 10, 12), (\"Thu\", 10, 12)])\n",
    "c4 = Course(\"SOCI\", 1230, \"Introduction to Sociology\", 1, 3, [(\"Mon\", 11, 13), (\"Thu\", 11, 13)])\n",
    "c5 = Course(\"POLS\", 1100, \"American Politics\", 2, 3, [(\"Tue\", 10, 12), (\"Thu\", 10, 12)])\n",
    "c6 = Course(\"SOCI\", 1450, \"Classical Sociological Theory\", 1, 3, [(\"Mon\", 12, 13), (\"Wed\", 12, 13), (\"Fri\", 12, 13)])\n"
   ]
  },
  {
   "cell_type": "code",
   "execution_count": null,
   "id": "25317693-fd4d-43d9-baa2-a21516133928",
   "metadata": {},
   "outputs": [],
   "source": [
    "r = Registrar()\n",
    "r.add_persons([s1,s2,s3,s4,i1,i2])\n",
    "r.add_courses([c1,c2,c3,c4,c5, c6])\n"
   ]
  },
  {
   "cell_type": "code",
   "execution_count": null,
   "id": "b36cba1e-23a9-4315-afc3-ae97bbef8569",
   "metadata": {},
   "outputs": [],
   "source": [
    "r.add_person_to_course(\"a572\", \"SOCI\", 1230, 1)\n",
    "r.add_person_to_course(\"a572\", \"POLS\", 1100, 2)"
   ]
  },
  {
   "cell_type": "code",
   "execution_count": null,
   "id": "1d86b5b5-9229-450c-9d03-90a55bd84d1e",
   "metadata": {},
   "outputs": [],
   "source": [
    "r.change_course_time(\"SOCI\", 1230, 1, [(\"Mon\", 9, 11), (\"Wed\", 9, 11)])\n",
    "r.add_person_to_course(\"a572\", \"SOCI\", 1450, 1)\n",
    "r.add_person_to_course(\"a421\", \"CSCI\", 1543, 1)\n",
    "r.add_person_to_course(\"a421\", \"CSCI\", 1342, 2)\n",
    "r.add_person_to_course(\"a421\", \"CSCI\", 1352, 1)"
   ]
  },
  {
   "cell_type": "code",
   "execution_count": null,
   "id": "1ffacf2a-c16c-499f-b507-a88fe249c88e",
   "metadata": {},
   "outputs": [],
   "source": [
    "r.add_person_to_course(\"z785\", \"SOCI\", 1230, 1)\n",
    "r.add_person_to_course(\"z785\", \"CSCI\", 1352, 1)\n",
    "r.add_person_to_course(\"z143\", \"CSCI\", 1543, 1)\n",
    "r.add_person_to_course(\"z143\", \"CSCI\", 1342, 2)\n",
    "r.add_person_to_course(\"z143\", \"SOCI\", 1230, 1)"
   ]
  },
  {
   "cell_type": "code",
   "execution_count": null,
   "id": "44f6a342-fd6c-4eeb-ac06-bae51d598fd7",
   "metadata": {},
   "outputs": [],
   "source": [
    "r.change_course_time( \"SOCI\", 1230, 1, [(\"Tue\", 11, 13), (\"Thu\", 11, 13)])"
   ]
  },
  {
   "cell_type": "code",
   "execution_count": null,
   "id": "26cd35bd-14b6-4e77-bfae-332d2bd709e7",
   "metadata": {},
   "outputs": [],
   "source": [
    "r.change_course_time( \"SOCI\", 1230, 1, [(\"Tue\", 12, 14), (\"Thu\", 12, 14)])\n",
    "r.add_person_to_course(\"z143\", \"SOCI\", 1230, 1)"
   ]
  },
  {
   "cell_type": "code",
   "execution_count": null,
   "id": "526ca0d0-68f2-4866-b076-ade3e3260ed0",
   "metadata": {},
   "outputs": [],
   "source": []
  }
 ],
 "metadata": {
  "kernelspec": {
   "display_name": "Python 3.10",
   "language": "python",
   "name": "python3"
  },
  "language_info": {
   "codemirror_mode": {
    "name": "ipython",
    "version": 3
   },
   "file_extension": ".py",
   "mimetype": "text/x-python",
   "name": "python",
   "nbconvert_exporter": "python",
   "pygments_lexer": "ipython3",
   "version": "3.10.5"
  }
 },
 "nbformat": 4,
 "nbformat_minor": 5
}
