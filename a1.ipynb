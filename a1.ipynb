{
 "cells": [
  {
   "cell_type": "markdown",
   "id": "cd1e0037-dbba-4ce8-89b0-23c956431a75",
   "metadata": {},
   "source": [
    "<h1>Vikramaditya Reddy Varkala</h1>\n",
    "<h2>Z1973679</h2>"
   ]
  },
  {
   "cell_type": "markdown",
   "id": "dd602451-0656-4f21-97a3-4169c0fab140",
   "metadata": {},
   "source": [
    "<b1><u><b>Question 1:</b></u></b1>"
   ]
  },
  {
   "cell_type": "code",
   "execution_count": 1,
   "id": "1546d53a-4878-42ed-a0c2-afcf208995b7",
   "metadata": {},
   "outputs": [
    {
     "name": "stdout",
     "output_type": "stream",
     "text": [
      "Hello,\n",
      "NIU\n"
     ]
    }
   ],
   "source": [
    "print(\"Hello,\\nNIU\")"
   ]
  },
  {
   "cell_type": "markdown",
   "id": "21593ea7-ded4-4013-a07c-c76608275408",
   "metadata": {},
   "source": [
    "<b1><u><b>Question 2:</b></u></b1>"
   ]
  },
  {
   "cell_type": "code",
   "execution_count": 10,
   "id": "5753ad6d-ec35-445c-b330-f99e86253a9f",
   "metadata": {},
   "outputs": [
    {
     "name": "stdout",
     "output_type": "stream",
     "text": [
      "Hi,Vikramaditya\n"
     ]
    }
   ],
   "source": [
    "x=\"Vikramaditya\"\n",
    "print(\"Hi,\"+x)"
   ]
  },
  {
   "cell_type": "code",
   "execution_count": 11,
   "id": "b9cc5809-516b-4b17-a046-4d10e564f2de",
   "metadata": {},
   "outputs": [],
   "source": [
    "# Here x is a varialble.Assign a different name(string) to x to print desired output\n"
   ]
  },
  {
   "cell_type": "markdown",
   "id": "3a8d5c91-6ddc-48da-a046-abb5a472a35d",
   "metadata": {},
   "source": [
    "<b1><u><b>Question 3:</b></u></b1>"
   ]
  },
  {
   "cell_type": "code",
   "execution_count": 3,
   "id": "e7852f0e-e9d0-4f41-abbc-3dc6fb44b60a",
   "metadata": {},
   "outputs": [],
   "source": [
    "c=2000\n",
    "i=0.15\n",
    "n=10\n",
    "\n",
    "# Here \n",
    "# C is the cash flow per period, \n",
    "# i is the interest rate,\n",
    "# n is the number of payments."
   ]
  },
  {
   "cell_type": "markdown",
   "id": "d0948481-e38c-474c-8189-59ef26e8cd28",
   "metadata": {},
   "source": [
    "<b1><b>3a)Future value of an ordinary annuity</b></u></b1>"
   ]
  },
  {
   "cell_type": "code",
   "execution_count": 4,
   "id": "c828311a-0d61-4ea9-8c60-81d1b777e0f9",
   "metadata": {},
   "outputs": [
    {
     "name": "stdout",
     "output_type": "stream",
     "text": [
      "40607.436476105424\n"
     ]
    }
   ],
   "source": [
    "fv_ordinary=c*((((1+i)**n)-(1))/(i))\n",
    "print(fv_ordinary)"
   ]
  },
  {
   "cell_type": "markdown",
   "id": "96744e4a-5824-4f1f-8a3c-9468c376c187",
   "metadata": {},
   "source": [
    "<b1><b>3b)Present value of an ordinary annuity</b></u></b1>"
   ]
  },
  {
   "cell_type": "code",
   "execution_count": 5,
   "id": "52a50fbd-9d0b-40cc-b9e5-4e6531bd592a",
   "metadata": {},
   "outputs": [
    {
     "name": "stdout",
     "output_type": "stream",
     "text": [
      "10037.537251708456\n"
     ]
    }
   ],
   "source": [
    "pv_ordinary=c*(((1)-((1+i)**-n))/(i))\n",
    "print(pv_ordinary)"
   ]
  },
  {
   "cell_type": "markdown",
   "id": "a98ea766-7ef7-40b0-a55c-7c9c55ea9b59",
   "metadata": {},
   "source": [
    "<b1><b>3c)Future value of an annuity due</b></u></b1>"
   ]
  },
  {
   "cell_type": "code",
   "execution_count": 6,
   "id": "ff55a17b-b2ff-469b-be28-06c0525ca800",
   "metadata": {},
   "outputs": [
    {
     "name": "stdout",
     "output_type": "stream",
     "text": [
      "46698.551947521235\n"
     ]
    }
   ],
   "source": [
    "fv_due=c*((((1+i)**n)-(1))/(i))*(1+i)\n",
    "print(fv_due)"
   ]
  },
  {
   "cell_type": "markdown",
   "id": "941a0a03-c67d-4277-b06e-8eeeb7a16cba",
   "metadata": {},
   "source": [
    "<b1><b>3d)present value of an annuity due</b></u></b1>"
   ]
  },
  {
   "cell_type": "code",
   "execution_count": 7,
   "id": "cd4316dc-4c07-42a2-af61-a90ca9515f0e",
   "metadata": {},
   "outputs": [
    {
     "name": "stdout",
     "output_type": "stream",
     "text": [
      "11543.167839464724\n"
     ]
    }
   ],
   "source": [
    "pv_due=c*(((1)-((1+i)**-n))/(i))*(1+i)\n",
    "print(pv_due)"
   ]
  },
  {
   "cell_type": "code",
   "execution_count": 8,
   "id": "6596acb1-46b2-4a44-b7c6-11d4d5c35cb5",
   "metadata": {},
   "outputs": [],
   "source": [
    "# restart kernel and clear all outputs\n",
    "# then run the below cell and then cell 4,5,6,7 for fv_ordinary,pv_ordinary,fv_due,pv_due for a different set of outputs for below values"
   ]
  },
  {
   "cell_type": "code",
   "execution_count": 9,
   "id": "db6dbde4-56de-4505-9dd7-442627c681df",
   "metadata": {},
   "outputs": [],
   "source": [
    "c=800\n",
    "i=0.03\n",
    "n=4"
   ]
  },
  {
   "cell_type": "code",
   "execution_count": null,
   "id": "0ddec057-887a-4edb-b4cc-7343d9b015d8",
   "metadata": {},
   "outputs": [],
   "source": []
  }
 ],
 "metadata": {
  "kernelspec": {
   "display_name": "Python 3.10",
   "language": "python",
   "name": "python3"
  },
  "language_info": {
   "codemirror_mode": {
    "name": "ipython",
    "version": 3
   },
   "file_extension": ".py",
   "mimetype": "text/x-python",
   "name": "python",
   "nbconvert_exporter": "python",
   "pygments_lexer": "ipython3",
   "version": "3.10.5"
  }
 },
 "nbformat": 4,
 "nbformat_minor": 5
}
